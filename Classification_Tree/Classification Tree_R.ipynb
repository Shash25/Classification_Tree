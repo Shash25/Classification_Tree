{
 "cells": [
  {
   "cell_type": "markdown",
   "metadata": {},
   "source": [
    "# A Brief Tour of the Trees and Forests"
   ]
  },
  {
   "cell_type": "markdown",
   "metadata": {},
   "source": [
    "# 1. rpart\n",
    "\n",
    "This package includes several example sets of data that can be used for recursive partitioning and regression trees.  Categorical or continuous variables can be used depending on whether one wants classification trees or regression trees. This package as well at the tree package are probably the two go-to packages for trees.  However, care should be taken as the tree package and the rpart package can produce very different results."
   ]
  },
  {
   "cell_type": "code",
   "execution_count": null,
   "metadata": {
    "collapsed": true
   },
   "outputs": [],
   "source": [
    "library(rpart)\n",
    "raw.orig < - read.csv(#file=\"c:\\\\rsei212_chemical.txt\", header=T, sep=\"\\t\")\n",
    " \n",
    "# Keep the dataset small and tidy\n",
    "# The Dataverse: hdl:1902.1/21235\n",
    "raw = subset(raw.orig, select=c(\"Metal\",\"OTW\",\"AirDecay\",\"Koc\"))\n",
    " \n",
    "row.names(raw) = raw.orig$CASNumber\n",
    "raw = na.omit(raw);\n",
    " \n",
    "frmla = Metal ~ OTW + AirDecay + Koc\n",
    " \n",
    "# Metal: Core Metal (CM); Metal (M); Non-Metal (NM); Core Non-Metal (CNM)\n",
    " \n",
    "fit = rpart(frmla, method=\"class\", data=raw)\n",
    " \n",
    "printcp(fit) # display the results\n",
    "plotcp(fit) # visualize cross-validation results\n",
    "summary(fit) # detailed summary of splits\n",
    " \n",
    "# plot tree\n",
    "plot(fit, uniform=TRUE, main=\"Classification Tree for Chemicals\")\n",
    "text(fit, use.n=TRUE, all=TRUE, cex=.8)\n",
    " \n",
    "# tabulate some of the data\n",
    "table(subset(raw, Koc>=190.5)$Metal)"
   ]
  },
  {
   "cell_type": "markdown",
   "metadata": {},
   "source": [
    "<a href=\" http://i1.wp.com/statistical-research.com/wp-content/uploads/2012/12/BasicTree.png\"><img alt=\"Species Decision Tree\" src=\"http://i1.wp.com/statistical-research.com/wp-content/uploads/2012/12/BasicTree.png\" width=\"437\" height=\"472\" /></a> <a href=\"http://i1.wp.com/statistical-research.com/wp-content/uploads/2012/12/BasicTree.png\"><img alt=\"Ozone Air Quality Decision Tree\" src=\"http://i1.wp.com/statistical-research.com/wp-content/uploads/2012/12/BasicTree.png\" width=\"437\" height=\"472\" /></a>"
   ]
  },
  {
   "cell_type": "markdown",
   "metadata": {},
   "source": [
    "# 2. tree\n",
    "\n",
    "This is the primary R package for classification and regression trees.  It has functions to prune the tree as well as general plotting functions and the mis-classifications (total loss). The output from tree can be easier to compare to the General Linear Model (GLM) and General Additive Model (GAM) alternatives."
   ]
  },
  {
   "cell_type": "code",
   "execution_count": null,
   "metadata": {
    "collapsed": true
   },
   "outputs": [],
   "source": [
    "###############\n",
    "# TREE package\n",
    "library(tree)\n",
    " \n",
    "tr = tree(frmla, data=raw)\n",
    "summary(tr)\n",
    "plot(tr); text(tr)"
   ]
  },
  {
   "cell_type": "markdown",
   "metadata": {},
   "source": [
    "<a href=\" http://i2.wp.com/statistical-research.com/wp-content/uploads/2012/12/BasicTree2.png\"><img alt=\"Species Decision Tree\" src=\"http://i2.wp.com/statistical-research.com/wp-content/uploads/2012/12/BasicTree2.png\" width=\"437\" height=\"472\" /></a> <a href=\"http://i2.wp.com/statistical-research.com/wp-content/uploads/2012/12/BasicTree2.png\"><img alt=\"Ozone Air Quality Decision Tree\" src=\"http://i2.wp.com/statistical-research.com/wp-content/uploads/2012/12/BasicTree2.png\" width=\"437\" height=\"472\" /></a>"
   ]
  },
  {
   "cell_type": "markdown",
   "metadata": {},
   "source": [
    "# 3. party\n",
    "\n",
    "This is another package for recursive partitioning. One of the key functions in this package is ctree. As the package documention indicates it can be used for continuous, censored, ordered, nominal and multivariate response variable in a conditional inference framework. The party package also implements "
   ]
  },
  {
   "cell_type": "code",
   "execution_count": null,
   "metadata": {
    "collapsed": true
   },
   "outputs": [],
   "source": [
    "###############\n",
    "# PARTY package\n",
    "library(party)\n",
    " \n",
    "(ct = ctree(frmla, data = raw))\n",
    "plot(ct, main=\"Conditional Inference Tree\")\n",
    " \n",
    "#Table of prediction errors\n",
    "table(predict(ct), raw$Metal)\n",
    " \n",
    "# Estimated class probabilities\n",
    "tr.pred = predict(ct, newdata=raw, type=\"prob\")"
   ]
  },
  {
   "cell_type": "markdown",
   "metadata": {},
   "source": [
    "<a href=\"http://i2.wp.com/statistical-research.com/wp-content/uploads/2012/12/ConditionalTree.png\"><img alt=\"Species Decision Tree\" src=\"http://i2.wp.com/statistical-research.com/wp-content/uploads/2012/12/ConditionalTree.png\" width=\"437\" height=\"472\" /></a> <a href=\"http://i2.wp.com/statistical-research.com/wp-content/uploads/2012/12/ConditionalTree.png\"><img alt=\"Ozone Air Quality Decision Tree\" src=\"http://i2.wp.com/statistical-research.com/wp-content/uploads/2012/12/ConditionalTree.png\" width=\"437\" height=\"472\" /></a>"
   ]
  },
  {
   "cell_type": "markdown",
   "metadata": {},
   "source": [
    "# 4. maptree\n",
    "\n",
    "maptree is a very good at graphing, pruning data from hierarchical clustering, and CART models. The trees produced by this package tend to be better labeled and higher quality and the stock plots from rpart."
   ]
  },
  {
   "cell_type": "code",
   "execution_count": null,
   "metadata": {
    "collapsed": true
   },
   "outputs": [],
   "source": [
    "###############\n",
    "# MAPTREE\n",
    "library(maptree)\n",
    "library(cluster)\n",
    "draw.tree( clip.rpart (rpart ( raw), best=7),\n",
    "nodeinfo=TRUE, units=\"species\",\n",
    "cases=\"cells\", digits=0)\n",
    "a = agnes ( raw[2:4], method=\"ward\" )\n",
    "names(a)\n",
    "a$diss\n",
    "b = kgs (a, a$diss, maxclust=20)\n",
    " \n",
    "plot(names(b), b, xlab=\"# clusters\", ylab=\"penalty\", type=\"n\")\n",
    "xloc = names(b)[b==min(b)]\n",
    "yloc = min(b)\n",
    "ngon(c(xloc,yloc+.75,10, \"dark green\"), angle=180, n=3)\n",
    "apply(cbind(names(b), b, 3, 'blue'), 1, ngon, 4) # cbind(x,y,size,color)"
   ]
  },
  {
   "cell_type": "markdown",
   "metadata": {},
   "source": [
    "<a href=\"http://i1.wp.com/statistical-research.com/wp-content/uploads/2012/12/maptree.png\"><img alt=\"Species Decision Tree\" src=\"http://i1.wp.com/statistical-research.com/wp-content/uploads/2012/12/maptree.png\" width=\"437\" height=\"472\" /></a> <a href=\"http://i1.wp.com/statistical-research.com/wp-content/uploads/2012/12/maptree.png\"><img alt=\"Ozone Air Quality Decision Tree\" src=\"http://i1.wp.com/statistical-research.com/wp-content/uploads/2012/12/maptree.png\" width=\"437\" height=\"472\" /></a>"
   ]
  },
  {
   "cell_type": "markdown",
   "metadata": {},
   "source": [
    "# 5. partykit\n",
    "\n",
    "This contains a re-implementation of the ctree function and it provides some very good graphing and visualization for tree models.  It is similar to the party package.  The example below uses data from airquality dataset and the famous species data available in R and can be found in the documentation."
   ]
  },
  {
   "cell_type": "markdown",
   "metadata": {},
   "source": [
    "# <a href=\"http://statistical-research.com/wp-content/uploads/2012/12/species.png\"><img alt=\"Species Decision Tree\" src=\"http://statistical-research.com/wp-content/uploads/2012/12/species.png\" width=\"437\" height=\"472\" /></a> <a href=\"http://statistical-research.com/wp-content/uploads/2012/12/airqualityOzone.png\"><img alt=\"Ozone Air Quality Decision Tree\" src=\"http://statistical-research.com/wp-content/uploads/2012/12/airqualityOzone.png\" width=\"437\" height=\"472\" /></a>"
   ]
  },
  {
   "cell_type": "markdown",
   "metadata": {},
   "source": [
    "# 6. evtree\n",
    "\n",
    "This package uses evolutionary algorithms.  The idea behind this approach is that is will reduce the a priori bias.  I have seen trees of this sort in the area of environmental research, bioinformatics, systematics, and marine biology.  Though there are many other areas than that of phylogentics."
   ]
  },
  {
   "cell_type": "code",
   "execution_count": null,
   "metadata": {
    "collapsed": false
   },
   "outputs": [],
   "source": [
    "###############\n",
    "## EVTREE (Evoluationary Learning)\n",
    "library(evtree)\n",
    " \n",
    "ev.raw = evtree(frmla, data=raw)\n",
    "plot(ev.raw)\n",
    "table(predict(ev.raw), raw$Metal)\n",
    "1-mean(predict(ev.raw) == raw$Metal)"
   ]
  },
  {
   "cell_type": "markdown",
   "metadata": {},
   "source": [
    "<a href=\"http://i1.wp.com/statistical-research.com/wp-content/uploads/2012/12/EvolutionaryTree.png\"><img alt=\"Species Decision Tree\" src=\"http://i1.wp.com/statistical-research.com/wp-content/uploads/2012/12/EvolutionaryTree.png\" width=\"437\" height=\"472\" /></a> <a href=\"http://i1.wp.com/statistical-research.com/wp-content/uploads/2012/12/EvolutionaryTree.png\"><img alt=\"Ozone Air Quality Decision Tree\" src=\"http://i1.wp.com/statistical-research.com/wp-content/uploads/2012/12/EvolutionaryTree.png\" width=\"437\" height=\"472\" /></a>"
   ]
  },
  {
   "cell_type": "markdown",
   "metadata": {},
   "source": [
    "# 7. randomForest\n",
    "\n",
    "Random forests are very good in that it is an ensemble learning method used for classification and regression.  It uses multiple models for better performance that just using a single tree model.  In addition because many sample are selected in the process a measure of variable importance can be obtain and this approach can be used for model selection and can be particularly useful when forward/backward stepwise selection is not appropriate and when working with an extremely high number of candidate variables that need to be reduced."
   ]
  },
  {
   "cell_type": "code",
   "execution_count": null,
   "metadata": {
    "collapsed": true
   },
   "outputs": [],
   "source": [
    "##################\n",
    "## randomForest\n",
    "library(randomForest)\n",
    "fit.rf = randomForest(frmla, data=raw)\n",
    "print(fit.rf)\n",
    "importance(fit.rf)\n",
    "plot(fit.rf)\n",
    "plot( importance(fit.rf), lty=2, pch=16)\n",
    "lines(importance(fit.rf))\n",
    "imp = importance(fit.rf)\n",
    "impvar = rownames(imp)[order(imp[, 1], decreasing=TRUE)]\n",
    "op = par(mfrow=c(1, 3))\n",
    "for (i in seq_along(impvar)) {\n",
    "partialPlot(fit.rf, raw, impvar[i], xlab=impvar[i],\n",
    "main=paste(\"Partial Dependence on\", impvar[i]),\n",
    "ylim=c(0, 1))\n",
    "}\n"
   ]
  },
  {
   "cell_type": "markdown",
   "metadata": {},
   "source": [
    "<a href=\"http://i1.wp.com/statistical-research.com/wp-content/uploads/2012/12/ErrorAndImportance.png\"><img alt=\"Species Decision Tree\" src=\"http://i1.wp.com/statistical-research.com/wp-content/uploads/2012/12/ErrorAndImportance.png\" width=\"437\" height=\"472\" /></a> <a href=\"http://i1.wp.com/statistical-research.com/wp-content/uploads/2012/12/ErrorAndImportance.png\"><img alt=\"Ozone Air Quality Decision Tree\" src=\"http://i1.wp.com/statistical-research.com/wp-content/uploads/2012/12/ErrorAndImportance.png\" width=\"437\" height=\"472\" /></a>"
   ]
  },
  {
   "cell_type": "markdown",
   "metadata": {},
   "source": [
    "# 8. varSelRF\n",
    "\n",
    "This can be used for further variable selection procedure using random forests.  It implements both backward stepwise elimination as well as selection based on the importance spectrum.  This data uses randomly generated data so the correlation matrix can set so that the first variable is strongly correlated and the other variables are less so."
   ]
  },
  {
   "cell_type": "code",
   "execution_count": null,
   "metadata": {
    "collapsed": true
   },
   "outputs": [],
   "source": [
    "##################\n",
    "## varSelRF package\n",
    "library(varSelRF)\n",
    "x = matrix(rnorm(25 * 30), ncol = 30)\n",
    "x[1:10, 1:2] = x[1:10, 1:2] + 2\n",
    "cl = factor(c(rep(\"A\", 10), rep(\"B\", 15)))\n",
    "rf.vs1 = varSelRF(x, cl, ntree = 200, ntreeIterat = 100,\n",
    "vars.drop.frac = 0.2)\n",
    " \n",
    "rf.vs1\n",
    "plot(rf.vs1)\n",
    " \n",
    "## Example of importance function show that forcing x1 to be the most important\n",
    "## while create secondary variables that is related to x1.\n",
    "x1=rnorm(500)\n",
    "x2=rnorm(500,x1,1)\n",
    "y=runif(1,1,10)*x1+rnorm(500,0,.5)\n",
    "my.df=data.frame(y,x1,x2,x3=rnorm(500),x4=rnorm(500),x5=rnorm(500))\n",
    "rf1 = randomForest(y~., data=my.df, mtry=2, ntree=50, importance=TRUE)\n",
    "importance(rf1)\n",
    "cor(my.df)"
   ]
  },
  {
   "cell_type": "markdown",
   "metadata": {},
   "source": [
    "<a href=\"http://i1.wp.com/statistical-research.com/wp-content/uploads/2012/12/ImportanceOOBError.png\"><img alt=\"Species Decision Tree\" src=\"http://i1.wp.com/statistical-research.com/wp-content/uploads/2012/12/ImportanceOOBError.png\" width=\"437\" height=\"472\" /></a> <a href=\"http://i1.wp.com/statistical-research.com/wp-content/uploads/2012/12/ImportanceOOBError.png\"><img alt=\"Ozone Air Quality Decision Tree\" src=\"http://i1.wp.com/statistical-research.com/wp-content/uploads/2012/12/ImportanceOOBError.png\" width=\"437\" height=\"472\" /></a>"
   ]
  },
  {
   "cell_type": "markdown",
   "metadata": {},
   "source": [
    "# 9. oblique.tree\n",
    "\n",
    "This package grows an oblique decision tree (a general form of the axis-parallel tree).  This example uses the crab dataset (morphological measurements on Leptograpsus crabs) available in R as a stock dataset to grow the oblique tree."
   ]
  },
  {
   "cell_type": "code",
   "execution_count": null,
   "metadata": {
    "collapsed": true
   },
   "outputs": [],
   "source": [
    "# ## OBLIQUE.TREE\n",
    "library(oblique.tree)\n",
    " \n",
    "aug.crabs.data = data.frame( g=factor(rep(1:4,each=50)),\n",
    "predict(princomp(crabs[,4:8]))[,2:3])\n",
    "plot(aug.crabs.data[,-1],type=\"n\")\n",
    "text( aug.crabs.data[,-1], col=as.numeric(aug.crabs.data[,1]), labels=as.numeric(aug.crabs.data[,1]))\n",
    "ob.tree = oblique.tree(formula = g~.,\n",
    "data = aug.crabs.data,\n",
    "oblique.splits = \"only\")\n",
    "plot(ob.tree);text(ob.tree)"
   ]
  },
  {
   "cell_type": "markdown",
   "metadata": {},
   "source": [
    "<a href=\"http://i2.wp.com/statistical-research.com/wp-content/uploads/2012/12/ObliqueTree.png\"><img alt=\"Species Decision Tree\" src=\"http://i2.wp.com/statistical-research.com/wp-content/uploads/2012/12/ObliqueTree.png\" width=\"437\" height=\"472\" /></a> <a href=\"http://i2.wp.com/statistical-research.com/wp-content/uploads/2012/12/ObliqueTree.png\"><img alt=\"Ozone Air Quality Decision Tree\" src=\"http://i2.wp.com/statistical-research.com/wp-content/uploads/2012/12/ObliqueTree.png\" width=\"437\" height=\"472\" /></a>"
   ]
  },
  {
   "cell_type": "markdown",
   "metadata": {},
   "source": [
    "#                                                                                             Thanks for reading..."
   ]
  }
 ],
 "metadata": {
  "kernelspec": {
   "display_name": "R",
   "language": "R",
   "name": "ir"
  },
  "language_info": {
   "codemirror_mode": "r",
   "file_extension": ".r",
   "mimetype": "text/x-r-source",
   "name": "R",
   "pygments_lexer": "r",
   "version": "3.2.2"
  }
 },
 "nbformat": 4,
 "nbformat_minor": 0
}
